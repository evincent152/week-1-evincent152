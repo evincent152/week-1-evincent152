{
 "cells": [
  {
   "cell_type": "code",
   "execution_count": 2,
   "metadata": {},
   "outputs": [
    {
     "name": "stdin",
     "output_type": "stream",
     "text": [
      "Enter an integer:  1\n",
      "Enter an integer:  2\n",
      "Enter an integer:  4\n",
      "Enter an integer:  8\n"
     ]
    },
    {
     "name": "stdout",
     "output_type": "stream",
     "text": [
      "no\n"
     ]
    }
   ],
   "source": [
    "#user input four values\n",
    "num1 = input('Enter an integer: ')\n",
    "num2 = input('Enter an integer: ')\n",
    "num3 = input('Enter an integer: ')\n",
    "num4 = input('Enter an integer: ')\n",
    "\n",
    "#convert to int\n",
    "value1 = int(num1)\n",
    "value2 = int(num2)\n",
    "value3 = int(num3)\n",
    "value4 = int(num4)\n",
    "\n",
    "if(value1 % value4 == 0 and value2 % value4 == 0 and value3 % value4 == 0):\n",
    "    print('yes')\n",
    "else:\n",
    "    print('no')"
   ]
  },
  {
   "cell_type": "code",
   "execution_count": null,
   "metadata": {},
   "outputs": [],
   "source": []
  }
 ],
 "metadata": {
  "kernelspec": {
   "display_name": "Python 3",
   "language": "python",
   "name": "python3"
  },
  "language_info": {
   "codemirror_mode": {
    "name": "ipython",
    "version": 3
   },
   "file_extension": ".py",
   "mimetype": "text/x-python",
   "name": "python",
   "nbconvert_exporter": "python",
   "pygments_lexer": "ipython3",
   "version": "3.6.7"
  }
 },
 "nbformat": 4,
 "nbformat_minor": 2
}
