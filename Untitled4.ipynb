{
 "cells": [
  {
   "cell_type": "code",
   "execution_count": 11,
   "metadata": {},
   "outputs": [
    {
     "name": "stdin",
     "output_type": "stream",
     "text": [
      "Please enter edge1 length:  10\n",
      "Please enter edge2 length:  20\n"
     ]
    },
    {
     "name": "stdout",
     "output_type": "stream",
     "text": [
      "11\n",
      "9\n"
     ]
    }
   ],
   "source": [
    "# Take user input of edge 1 and 2\n",
    "edge1_len = input('Please enter edge1 length: ')\n",
    "edge2_len = input('Please enter edge2 length: ')\n",
    "max_len = 0\n",
    "min_len = 0\n",
    "\n",
    "# complete code below\n",
    "# abs() takes the absolute value since the length cannot be negative\n",
    "try:\n",
    "    #min_len = abs(edge1_len - egde2_len) + 1 # abs() takes the absolute value since the length cannot be negative\n",
    "    #max_len = abs(edge1_len - edge2_len) - 1\n",
    "    #print('Range of length of edge3 is: ', edge3_len >= min_len and edge3_len <= max_len)\n",
    "    side1 = int(edge1_len)\n",
    "    side2 = int(edge2_len)\n",
    "    min_len = abs(side1 - side2) + 1\n",
    "    print(min_len)\n",
    "    max_len = abs(side1 - side2) - 1\n",
    "    print(max_len)\n",
    "    \n",
    "except:\n",
    "    print('Please only enter numeric values! ')"
   ]
  },
  {
   "cell_type": "code",
   "execution_count": 4,
   "metadata": {},
   "outputs": [
    {
     "name": "stdin",
     "output_type": "stream",
     "text": [
      "Please enter edge1 length:  10\n",
      "Please enter edge2 length:  20\n"
     ]
    }
   ],
   "source": [
    "edge1_len = input('Please enter edge1 length: ')\n",
    "edge2_len = input('Please enter edge2 length: ')\n",
    "max_len = 0\n",
    "min_len = 0"
   ]
  },
  {
   "cell_type": "code",
   "execution_count": 9,
   "metadata": {},
   "outputs": [
    {
     "name": "stdout",
     "output_type": "stream",
     "text": [
      "11\n"
     ]
    }
   ],
   "source": [
    "side1 = int(edge1_len)\n",
    "side2 = int(edge2_len)\n",
    "min_len = abs(side1 - side2) + 1\n",
    "print(min_len)"
   ]
  },
  {
   "cell_type": "markdown",
   "metadata": {},
   "source": []
  }
 ],
 "metadata": {
  "kernelspec": {
   "display_name": "Python 3",
   "language": "python",
   "name": "python3"
  },
  "language_info": {
   "codemirror_mode": {
    "name": "ipython",
    "version": 3
   },
   "file_extension": ".py",
   "mimetype": "text/x-python",
   "name": "python",
   "nbconvert_exporter": "python",
   "pygments_lexer": "ipython3",
   "version": "3.6.7"
  }
 },
 "nbformat": 4,
 "nbformat_minor": 2
}
