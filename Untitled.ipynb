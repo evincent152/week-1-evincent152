{
 "cells": [
  {
   "cell_type": "code",
   "execution_count": 2,
   "metadata": {},
   "outputs": [
    {
     "name": "stdin",
     "output_type": "stream",
     "text": [
      "Enter an integer:  9\n"
     ]
    },
    {
     "name": "stdout",
     "output_type": "stream",
     "text": [
      "The factors of this integer are: \n",
      "1\n",
      "3\n",
      "9\n"
     ]
    }
   ],
   "source": [
    "#user input\n",
    "num = int(input('Enter an integer: '))\n",
    "\n",
    "#define the function print_factors (which prints out the factors of input num)\n",
    "def print_factors(num):\n",
    "    print('The factors of this integer are: ')\n",
    "    for i in range(1, num + 1): #searching for all the factors from 1->input \n",
    "        if num % i == 0:\n",
    "           print(i) # do not print results that are not a perfect factor\n",
    "            \n",
    "print_factors(num)"
   ]
  },
  {
   "cell_type": "code",
   "execution_count": null,
   "metadata": {},
   "outputs": [],
   "source": []
  }
 ],
 "metadata": {
  "kernelspec": {
   "display_name": "Python 3",
   "language": "python",
   "name": "python3"
  },
  "language_info": {
   "codemirror_mode": {
    "name": "ipython",
    "version": 3
   },
   "file_extension": ".py",
   "mimetype": "text/x-python",
   "name": "python",
   "nbconvert_exporter": "python",
   "pygments_lexer": "ipython3",
   "version": "3.6.7"
  }
 },
 "nbformat": 4,
 "nbformat_minor": 2
}
